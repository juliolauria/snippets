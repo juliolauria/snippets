{
 "cells": [
  {
   "cell_type": "markdown",
   "id": "de71bb99",
   "metadata": {},
   "source": [
    "# Meteostats - Dados Meteorológicos"
   ]
  },
  {
   "cell_type": "markdown",
   "id": "c8095e05",
   "metadata": {},
   "source": [
    "## Objetivo"
   ]
  },
  {
   "cell_type": "markdown",
   "id": "e0e33efa",
   "metadata": {},
   "source": [
    "Exemplo de uso da biblioteca meteostas para obter dados meteorológicos como fontes externas"
   ]
  },
  {
   "cell_type": "markdown",
   "id": "9a04cd26",
   "metadata": {},
   "source": [
    "## Descrição"
   ]
  },
  {
   "cell_type": "markdown",
   "id": "ea78dba5",
   "metadata": {},
   "source": [
    "Obter dados metereológicos como temperatura, pressão, umidade e velocidade do vento para ser utilizada como fontes externas em projetos de ciência de dados.\n",
    "A biblioteca meteostats traz as informações agrupadas por dia. trata-se de uma solução open-source que utiliza dados disponíveis de diversas fontes confiáveis e públicas e que apresenta os resultados de uma forma concisa e de fácil manipulação.\n",
    "\n",
    "*Links úteis:*   \n",
    "\n",
    "[Site Oficial](https://meteostat.net/en/)    \n",
    "[Biblioteca python](https://dev.meteostat.net/python/)      \n",
    "[Repositório](https://github.com/meteostat/meteostat-python)    \n",
    "[Unidades de medida](https://dev.meteostat.net/formats.html#meteorological-parameters)"
   ]
  },
  {
   "cell_type": "markdown",
   "id": "78b08d68-4d1c-4d8a-9e6d-25f05f80e0e1",
   "metadata": {},
   "source": [
    "### Dicionário de dados"
   ]
  },
  {
   "cell_type": "markdown",
   "id": "d0b98360-0ff7-486e-9474-00483d10bd32",
   "metadata": {},
   "source": [
    "[Dicionário de dados oficial](https://dev.meteostat.net/formats.html#meteorological-parameters)"
   ]
  },
  {
   "cell_type": "markdown",
   "id": "b6da2c21-f615-44b7-86e0-1e13f38a6f0d",
   "metadata": {},
   "source": [
    "**TEMP:** Temperatura ambiente (°C)  \n",
    "**TAVG:** Temperatura média (°C)  \n",
    "**TMIN:** Temperatura mínima (°C)  \n",
    "**TMAX:** Temperatura máxima (°C)  \n",
    "**DWPT:** Ponto de orvalho (°C)  \n",
    "**PRCP:** Precipitação total (mm)  \n",
    "**WDIR:** Direção do vento (Graus)  \n",
    "**WSPD:** Média da velocidade do vento (km/h)  \n",
    "**WPGT:** Pico/rajada de vento (km/h)  \n",
    "**RHUM:** Umidade relativa (%)  \n",
    "**PRES:** Pressão atmosferica (hPa)  \n",
    "**SNOW:** Profundidade de neve (cm)   \n",
    "**TSUN:** Duração de luz solar (min)  \n",
    "**COCO:** Código de condição climática (Ver. link acima para tabela com significado dos códigos)   "
   ]
  },
  {
   "cell_type": "markdown",
   "id": "8a8971a6-5bd2-4e1c-b4d0-27be7eac5ec9",
   "metadata": {},
   "source": [
    "### Código"
   ]
  },
  {
   "cell_type": "code",
   "execution_count": 21,
   "id": "9dc1a1c6-9660-4735-8b95-5e582a4046f6",
   "metadata": {},
   "outputs": [],
   "source": [
    "from datetime import datetime\n",
    "import numpy as np\n",
    "import pandas as pd\n",
    "import matplotlib.pyplot as plt\n",
    "from meteostat import Point, Daily, Hourly"
   ]
  },
  {
   "cell_type": "markdown",
   "id": "4fc25ca4-9463-4411-8de6-3f2957c35467",
   "metadata": {},
   "source": [
    "Declara latitude e longitude da cidade de interesse.   "
   ]
  },
  {
   "cell_type": "code",
   "execution_count": 25,
   "id": "6b4d464b-acb1-4a83-b437-60e87dfbc556",
   "metadata": {},
   "outputs": [],
   "source": [
    "# Exemplo: Cidade de São Paulo/SP\n",
    "lat = -23.5489\n",
    "lon = -46.6388\n",
    "alt = 745 # opcional\n",
    "\n",
    "# Dia de início e fim da consulta\n",
    "start = datetime.today().replace(day=1) # Primeiro dia do mês corrente\n",
    "finish = datetime.today() # Dia de hoje"
   ]
  },
  {
   "cell_type": "markdown",
   "id": "e08c323c-862c-4acf-b30b-396a20947209",
   "metadata": {},
   "source": [
    "### Informações diárias"
   ]
  },
  {
   "cell_type": "code",
   "execution_count": 26,
   "id": "a716c50d",
   "metadata": {},
   "outputs": [
    {
     "data": {
      "text/html": [
       "<div>\n",
       "<style scoped>\n",
       "    .dataframe tbody tr th:only-of-type {\n",
       "        vertical-align: middle;\n",
       "    }\n",
       "\n",
       "    .dataframe tbody tr th {\n",
       "        vertical-align: top;\n",
       "    }\n",
       "\n",
       "    .dataframe thead th {\n",
       "        text-align: right;\n",
       "    }\n",
       "</style>\n",
       "<table border=\"1\" class=\"dataframe\">\n",
       "  <thead>\n",
       "    <tr style=\"text-align: right;\">\n",
       "      <th></th>\n",
       "      <th>time</th>\n",
       "      <th>tavg</th>\n",
       "      <th>tmin</th>\n",
       "      <th>tmax</th>\n",
       "      <th>prcp</th>\n",
       "      <th>snow</th>\n",
       "      <th>wdir</th>\n",
       "      <th>wspd</th>\n",
       "      <th>wpgt</th>\n",
       "      <th>pres</th>\n",
       "      <th>tsun</th>\n",
       "    </tr>\n",
       "  </thead>\n",
       "  <tbody>\n",
       "    <tr>\n",
       "      <th>0</th>\n",
       "      <td>2022-04-02</td>\n",
       "      <td>18.5</td>\n",
       "      <td>16.7</td>\n",
       "      <td>20.8</td>\n",
       "      <td>7.1</td>\n",
       "      <td>NaN</td>\n",
       "      <td>133.0</td>\n",
       "      <td>13.7</td>\n",
       "      <td>NaN</td>\n",
       "      <td>1021.0</td>\n",
       "      <td>NaN</td>\n",
       "    </tr>\n",
       "    <tr>\n",
       "      <th>1</th>\n",
       "      <td>2022-04-03</td>\n",
       "      <td>21.3</td>\n",
       "      <td>18.1</td>\n",
       "      <td>26.8</td>\n",
       "      <td>0.0</td>\n",
       "      <td>NaN</td>\n",
       "      <td>114.0</td>\n",
       "      <td>14.5</td>\n",
       "      <td>NaN</td>\n",
       "      <td>1019.1</td>\n",
       "      <td>NaN</td>\n",
       "    </tr>\n",
       "    <tr>\n",
       "      <th>2</th>\n",
       "      <td>2022-04-04</td>\n",
       "      <td>24.3</td>\n",
       "      <td>19.8</td>\n",
       "      <td>29.8</td>\n",
       "      <td>4.6</td>\n",
       "      <td>NaN</td>\n",
       "      <td>37.0</td>\n",
       "      <td>11.3</td>\n",
       "      <td>NaN</td>\n",
       "      <td>1016.6</td>\n",
       "      <td>NaN</td>\n",
       "    </tr>\n",
       "    <tr>\n",
       "      <th>3</th>\n",
       "      <td>2022-04-05</td>\n",
       "      <td>21.4</td>\n",
       "      <td>19.8</td>\n",
       "      <td>23.8</td>\n",
       "      <td>4.7</td>\n",
       "      <td>NaN</td>\n",
       "      <td>137.0</td>\n",
       "      <td>8.9</td>\n",
       "      <td>NaN</td>\n",
       "      <td>1017.4</td>\n",
       "      <td>NaN</td>\n",
       "    </tr>\n",
       "    <tr>\n",
       "      <th>4</th>\n",
       "      <td>2022-04-06</td>\n",
       "      <td>21.0</td>\n",
       "      <td>17.8</td>\n",
       "      <td>25.8</td>\n",
       "      <td>0.0</td>\n",
       "      <td>NaN</td>\n",
       "      <td>130.0</td>\n",
       "      <td>10.3</td>\n",
       "      <td>NaN</td>\n",
       "      <td>1017.3</td>\n",
       "      <td>NaN</td>\n",
       "    </tr>\n",
       "  </tbody>\n",
       "</table>\n",
       "</div>"
      ],
      "text/plain": [
       "        time  tavg  tmin  tmax  prcp  snow   wdir  wspd  wpgt    pres  tsun\n",
       "0 2022-04-02  18.5  16.7  20.8   7.1   NaN  133.0  13.7   NaN  1021.0   NaN\n",
       "1 2022-04-03  21.3  18.1  26.8   0.0   NaN  114.0  14.5   NaN  1019.1   NaN\n",
       "2 2022-04-04  24.3  19.8  29.8   4.6   NaN   37.0  11.3   NaN  1016.6   NaN\n",
       "3 2022-04-05  21.4  19.8  23.8   4.7   NaN  137.0   8.9   NaN  1017.4   NaN\n",
       "4 2022-04-06  21.0  17.8  25.8   0.0   NaN  130.0  10.3   NaN  1017.3   NaN"
      ]
     },
     "execution_count": 26,
     "metadata": {},
     "output_type": "execute_result"
    }
   ],
   "source": [
    "# Declara objeto 'cidade' para localização\n",
    "cidade = Point(lat, lon, alt) # Altitude opcional\n",
    "\n",
    "# Busca informações por dia\n",
    "data = Daily(cidade, start, finish)\n",
    "data = data.fetch()\n",
    "data.reset_index(inplace=True)\n",
    "\n",
    "data.head()"
   ]
  },
  {
   "cell_type": "code",
   "execution_count": 35,
   "id": "2cdf617d",
   "metadata": {},
   "outputs": [
    {
     "data": {
      "image/png": "[encoded data removed]",
      "text/plain": [
       "<Figure size 432x288 with 1 Axes>"
      ]
     },
     "metadata": {
      "needs_background": "light"
     },
     "output_type": "display_data"
    }
   ],
   "source": [
    "data.plot(y=['tavg']);"
   ]
  },
  {
   "cell_type": "markdown",
   "id": "97bd520c-971e-4bc4-9c13-0607d5bd7b25",
   "metadata": {},
   "source": [
    "### Informações semanais"
   ]
  },
  {
   "cell_type": "code",
   "execution_count": 30,
   "id": "994b7697-24b1-4619-a91b-ba70c7b39735",
   "metadata": {},
   "outputs": [
    {
     "data": {
      "text/html": [
       "<div>\n",
       "<style scoped>\n",
       "    .dataframe tbody tr th:only-of-type {\n",
       "        vertical-align: middle;\n",
       "    }\n",
       "\n",
       "    .dataframe tbody tr th {\n",
       "        vertical-align: top;\n",
       "    }\n",
       "\n",
       "    .dataframe thead th {\n",
       "        text-align: right;\n",
       "    }\n",
       "</style>\n",
       "<table border=\"1\" class=\"dataframe\">\n",
       "  <thead>\n",
       "    <tr style=\"text-align: right;\">\n",
       "      <th></th>\n",
       "      <th>time</th>\n",
       "      <th>temp</th>\n",
       "      <th>dwpt</th>\n",
       "      <th>rhum</th>\n",
       "      <th>prcp</th>\n",
       "      <th>snow</th>\n",
       "      <th>wdir</th>\n",
       "      <th>wspd</th>\n",
       "      <th>wpgt</th>\n",
       "      <th>pres</th>\n",
       "      <th>tsun</th>\n",
       "      <th>coco</th>\n",
       "    </tr>\n",
       "  </thead>\n",
       "  <tbody>\n",
       "    <tr>\n",
       "      <th>0</th>\n",
       "      <td>2022-04-01 12:00:00</td>\n",
       "      <td>17.8</td>\n",
       "      <td>14.9</td>\n",
       "      <td>83.0</td>\n",
       "      <td>0.0</td>\n",
       "      <td>NaN</td>\n",
       "      <td>100.0</td>\n",
       "      <td>15.0</td>\n",
       "      <td>NaN</td>\n",
       "      <td>1023.0</td>\n",
       "      <td>NaN</td>\n",
       "      <td>8.0</td>\n",
       "    </tr>\n",
       "    <tr>\n",
       "      <th>1</th>\n",
       "      <td>2022-04-01 13:00:00</td>\n",
       "      <td>18.8</td>\n",
       "      <td>14.9</td>\n",
       "      <td>78.0</td>\n",
       "      <td>0.0</td>\n",
       "      <td>NaN</td>\n",
       "      <td>100.0</td>\n",
       "      <td>20.0</td>\n",
       "      <td>NaN</td>\n",
       "      <td>1023.0</td>\n",
       "      <td>NaN</td>\n",
       "      <td>8.0</td>\n",
       "    </tr>\n",
       "    <tr>\n",
       "      <th>2</th>\n",
       "      <td>2022-04-01 14:00:00</td>\n",
       "      <td>19.8</td>\n",
       "      <td>14.8</td>\n",
       "      <td>73.0</td>\n",
       "      <td>0.0</td>\n",
       "      <td>NaN</td>\n",
       "      <td>100.0</td>\n",
       "      <td>17.0</td>\n",
       "      <td>NaN</td>\n",
       "      <td>1023.0</td>\n",
       "      <td>NaN</td>\n",
       "      <td>8.0</td>\n",
       "    </tr>\n",
       "    <tr>\n",
       "      <th>3</th>\n",
       "      <td>2022-04-01 15:00:00</td>\n",
       "      <td>19.8</td>\n",
       "      <td>14.8</td>\n",
       "      <td>73.0</td>\n",
       "      <td>0.0</td>\n",
       "      <td>NaN</td>\n",
       "      <td>100.0</td>\n",
       "      <td>15.0</td>\n",
       "      <td>NaN</td>\n",
       "      <td>1022.0</td>\n",
       "      <td>NaN</td>\n",
       "      <td>9.0</td>\n",
       "    </tr>\n",
       "    <tr>\n",
       "      <th>4</th>\n",
       "      <td>2022-04-01 16:00:00</td>\n",
       "      <td>19.8</td>\n",
       "      <td>15.8</td>\n",
       "      <td>78.0</td>\n",
       "      <td>0.0</td>\n",
       "      <td>NaN</td>\n",
       "      <td>120.0</td>\n",
       "      <td>15.0</td>\n",
       "      <td>NaN</td>\n",
       "      <td>1022.0</td>\n",
       "      <td>NaN</td>\n",
       "      <td>8.0</td>\n",
       "    </tr>\n",
       "  </tbody>\n",
       "</table>\n",
       "</div>"
      ],
      "text/plain": [
       "                 time  temp  dwpt  rhum  prcp  snow   wdir  wspd  wpgt  \\\n",
       "0 2022-04-01 12:00:00  17.8  14.9  83.0   0.0   NaN  100.0  15.0   NaN   \n",
       "1 2022-04-01 13:00:00  18.8  14.9  78.0   0.0   NaN  100.0  20.0   NaN   \n",
       "2 2022-04-01 14:00:00  19.8  14.8  73.0   0.0   NaN  100.0  17.0   NaN   \n",
       "3 2022-04-01 15:00:00  19.8  14.8  73.0   0.0   NaN  100.0  15.0   NaN   \n",
       "4 2022-04-01 16:00:00  19.8  15.8  78.0   0.0   NaN  120.0  15.0   NaN   \n",
       "\n",
       "     pres  tsun  coco  \n",
       "0  1023.0   NaN   8.0  \n",
       "1  1023.0   NaN   8.0  \n",
       "2  1023.0   NaN   8.0  \n",
       "3  1022.0   NaN   9.0  \n",
       "4  1022.0   NaN   8.0  "
      ]
     },
     "execution_count": 30,
     "metadata": {},
     "output_type": "execute_result"
    }
   ],
   "source": [
    "# Data e hora de início e fim da consulta\n",
    "start_h = datetime.today().replace(day=1)\n",
    "finish_h = datetime.today()\n",
    "\n",
    "data_h = Hourly(cidade, start_h, finish_h)\n",
    "data_h = data_h.fetch()\n",
    "data_h.reset_index(inplace=True)\n",
    "\n",
    "data_h.head()"
   ]
  },
  {
   "cell_type": "code",
   "execution_count": 34,
   "id": "1de29e58-c935-444a-b000-2de01b6f000c",
   "metadata": {},
   "outputs": [
    {
     "data": {
      "image/png": "[encoded data removed]",
      "text/plain": [
       "<Figure size 432x288 with 1 Axes>"
      ]
     },
     "metadata": {
      "needs_background": "light"
     },
     "output_type": "display_data"
    }
   ],
   "source": [
    "data_h.plot(y=['temp']);"
   ]
  },
  {
   "cell_type": "markdown",
   "id": "d9d83bef-9d5e-4e13-b37d-78eb62cb72dc",
   "metadata": {},
   "source": [
    "### Exporta dados"
   ]
  },
  {
   "cell_type": "code",
   "execution_count": 8,
   "id": "207901c7",
   "metadata": {},
   "outputs": [],
   "source": [
    "# data.to_csv('weather_data.csv', index=False)"
   ]
  }
 ],
 "metadata": {
  "kernelspec": {
   "display_name": "Python 3 (ipykernel)",
   "language": "python",
   "name": "python3"
  },
  "language_info": {
   "codemirror_mode": {
    "name": "ipython",
    "version": 3
   },
   "file_extension": ".py",
   "mimetype": "text/x-python",
   "name": "python",
   "nbconvert_exporter": "python",
   "pygments_lexer": "ipython3",
   "version": "3.7.11"
  }
 },
 "nbformat": 4,
 "nbformat_minor": 5
}
